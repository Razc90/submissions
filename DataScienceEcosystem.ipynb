{
 "cells": [
  {
   "cell_type": "markdown",
   "id": "0999dcf2-4bc4-40b8-b3a1-eab9cc12aeef",
   "metadata": {},
   "source": [
    "# Data Science Tools and Ecosystem "
   ]
  },
  {
   "cell_type": "markdown",
   "id": "d0a1be1a-34bd-4c4a-8df2-e9253a4872a7",
   "metadata": {},
   "source": [
    "## Author\n",
    "L Wong"
   ]
  },
  {
   "cell_type": "markdown",
   "id": "aca50173-e124-4233-9086-328446096cff",
   "metadata": {},
   "source": [
    "In this notebook, Data Science Tools and Ecosystem are summarized."
   ]
  },
  {
   "cell_type": "markdown",
   "id": "48ccf758-1a06-440c-a26d-8ffc8a2c71e8",
   "metadata": {},
   "source": [
    "**Objectives:**\n",
    "* Learn about packages, APIs, datasets\n",
    "* Install and learn Jupyter\n",
    "* Install and learn R and Rstudio\n",
    "* Learn about Git"
   ]
  },
  {
   "cell_type": "markdown",
   "id": "da9ac0ba-cf56-41bf-afcc-dd6db3aabf97",
   "metadata": {},
   "source": [
    "Some of the popular languages that Data Scientists use are:\n",
    "\n",
    "1. Python\n",
    "2. R\n",
    "3. SQL"
   ]
  },
  {
   "cell_type": "markdown",
   "id": "33bfc8fd-d77e-4564-a469-a5304c108026",
   "metadata": {},
   "source": [
    "Some of the commonly used libraries used by Data Scientists include:\n",
    "1. NumPy\n",
    "2. Pandas\n",
    "3. TensorFlow"
   ]
  },
  {
   "cell_type": "markdown",
   "id": "8ec5d7fb-2919-43c6-9675-ea848a0286c9",
   "metadata": {},
   "source": [
    "|Data Science Tools|\n",
    "|----|\n",
    "|Jupyter Lab|\n",
    "|R Studio|\n",
    "|Spyder|"
   ]
  },
  {
   "cell_type": "markdown",
   "id": "86d5659a-844d-4189-9f69-0e8ea809fef9",
   "metadata": {},
   "source": [
    "### Below are a few examples of evaluating arithmetic expressions in Python."
   ]
  },
  {
   "cell_type": "code",
   "execution_count": 15,
   "id": "b68a5614-8604-46de-948a-0f0d425c55f7",
   "metadata": {},
   "outputs": [
    {
     "data": {
      "text/plain": [
       "17"
      ]
     },
     "execution_count": 15,
     "metadata": {},
     "output_type": "execute_result"
    }
   ],
   "source": [
    "#This a simple arithmetic expression to mutiply then add integers.\n",
    "(3*4)+5"
   ]
  },
  {
   "cell_type": "code",
   "execution_count": 41,
   "id": "33531011-e23b-498a-812a-94d67f600ffd",
   "metadata": {},
   "outputs": [
    {
     "name": "stdout",
     "output_type": "stream",
     "text": [
      "3.33 hrs\n"
     ]
    }
   ],
   "source": [
    "#This will convert 200 minutes to hours by diving by 60\n",
    "tmin = 200 #mins\n",
    "thours = tmin / 60 #mins to hour conversion\n",
    "print(round(thours,2),\"hrs\") \n"
   ]
  }
 ],
 "metadata": {
  "kernelspec": {
   "display_name": "Python 3 (ipykernel)",
   "language": "python",
   "name": "python3"
  },
  "language_info": {
   "codemirror_mode": {
    "name": "ipython",
    "version": 3
   },
   "file_extension": ".py",
   "mimetype": "text/x-python",
   "name": "python",
   "nbconvert_exporter": "python",
   "pygments_lexer": "ipython3",
   "version": "3.12.4"
  }
 },
 "nbformat": 4,
 "nbformat_minor": 5
}
